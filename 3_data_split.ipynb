# Importing necessary libraries
import os
import random
import shutil

# Define paths for processed data
PROCESSED_VIDEO_DIR = "data/processed_video"
PROCESSED_AUDIO_DIR = "data/processed_audio"
PROCESSED_IMAGE_DIR = "data/processed_image"

# Output directories for splits
TRAIN_DIR = "data/train"
VALIDATION_DIR = "data/validation"
TEST_DIR = "data/test"

# Create split directories
for split_dir in [TRAIN_DIR, VALIDATION_DIR, TEST_DIR]:
    os.makedirs(os.path.join(split_dir, "video"), exist_ok=True)
    os.makedirs(os.path.join(split_dir, "audio"), exist_ok=True)
    os.makedirs(os.path.join(split_dir, "image"), exist_ok=True)

# Function to split data
def split_data(input_dir, output_dirs, train_ratio=0.7, validation_ratio=0.15, test_ratio=0.15):
    files = os.listdir(input_dir)
    random.shuffle(files)

    train_split = int(len(files) * train_ratio)
    validation_split = int(len(files) * (train_ratio + validation_ratio))

    # Splitting the files
    train_files = files[:train_split]
    validation_files = files[train_split:validation_split]
    test_files = files[validation_split:]

    # Copy files to respective directories
    for file_set, output_dir in zip([train_files, validation_files, test_files], output_dirs):
        for file_name in file_set:
            src_path = os.path.join(input_dir, file_name)
            dst_path = os.path.join(output_dir, file_name)
            shutil.copy(src_path, dst_path)

    print(f"Data split complete for {input_dir} into Train: {len(train_files)}, Validation: {len(validation_files)}, Test: {len(test_files)}.")

# Splitting each dataset type
split_data(PROCESSED_VIDEO_DIR, [os.path.join(TRAIN_DIR, "video"), os.path.join(VALIDATION_DIR, "video"), os.path.join(TEST_DIR, "video")])
split_data(PROCESSED_AUDIO_DIR, [os.path.join(TRAIN_DIR, "audio"), os.path.join(VALIDATION_DIR, "audio"), os.path.join(TEST_DIR, "audio")])
split_data(PROCESSED_IMAGE_DIR, [os.path.join(TRAIN_DIR, "image"), os.path.join(VALIDATION_DIR, "image"), os.path.join(TEST_DIR, "image")])

print("Data splitting into train, validation, and test sets is complete.")

