# Importing necessary libraries
import os
import shutil
import requests
from zipfile import ZipFile

# Directory paths
BASE_DIR = "data"
VIDEO_DIR = os.path.join(BASE_DIR, "video")
AUDIO_DIR = os.path.join(BASE_DIR, "audio")
IMAGE_DIR = os.path.join(BASE_DIR, "image")

# Create directories for data
os.makedirs(VIDEO_DIR, exist_ok=True)
os.makedirs(AUDIO_DIR, exist_ok=True)
os.makedirs(IMAGE_DIR, exist_ok=True)

# Function to download and extract a dataset if it's in a .zip file
def download_and_extract(url, extract_to):
    filename = url.split("/")[-1]
    zip_path = os.path.join(BASE_DIR, filename)

    # Downloading the dataset
    print(f"Downloading {filename}...")
    response = requests.get(url, stream=True)
    with open(zip_path, "wb") as file:
        shutil.copyfileobj(response.raw, file)
    print(f"Downloaded {filename}.")

    # Extracting if it's a zip file
    if filename.endswith(".zip"):
        print(f"Extracting {filename}...")
        with ZipFile(zip_path, "r") as zip_ref:
            zip_ref.extractall(extract_to)
        print(f"Extracted to {extract_to}.")

    # Remove the zip file after extraction
    os.remove(zip_path)

# URL placeholders for dataset download (replace with actual URLs)
video_dataset_url = "https://example.com/video_deepfake_dataset.zip"
audio_dataset_url = "https://example.com/audio_deepfake_dataset.zip"
image_dataset_url = "https://example.com/image_deepfake_dataset.zip"

# Downloading and organizing datasets
download_and_extract(video_dataset_url, VIDEO_DIR)
download_and_extract(audio_dataset_url, AUDIO_DIR)
download_and_extract(image_dataset_url, IMAGE_DIR)

print("Data collection complete. All datasets are organized.")
