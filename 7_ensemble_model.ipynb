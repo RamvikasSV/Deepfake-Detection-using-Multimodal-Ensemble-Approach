
# Importing necessary libraries
import numpy as np
import tensorflow as tf
from tensorflow.keras.models import load_model
from sklearn.metrics import accuracy_score, precision_score, recall_score, f1_score

# Load the trained models
video_model = load_model("models/video_model_final.h5")
audio_model = load_model("models/audio_model_final.h5")
image_model = load_model("models/image_model_final.h5")

# Directory paths for test data
VIDEO_TEST_DIR = "data/test/video"
AUDIO_TEST_DIR = "data/test/audio"
IMAGE_TEST_DIR = "data/test/image"

# Helper function to get predictions from each model
def get_predictions(model, data_dir, img_size=(128, 128), batch_size=32):
    data_gen = tf.keras.preprocessing.image.ImageDataGenerator(rescale=1.0/255.0)
    data_flow = data_gen.flow_from_directory(data_dir, target_size=img_size, batch_size=batch_size, class_mode='binary', shuffle=False)
    predictions = model.predict(data_flow)
    predicted_labels = np.round(predictions).flatten()  # Binary classification (0 or 1)
    return predicted_labels, data_flow.classes

# Get predictions from each model on the test data
video_preds, true_labels = get_predictions(video_model, VIDEO_TEST_DIR)
audio_preds, _ = get_predictions(audio_model, AUDIO_TEST_DIR)
image_preds, _ = get_predictions(image_model, IMAGE_TEST_DIR)

# Majority Voting Ensemble Method
def majority_voting(preds1, preds2, preds3):
    ensemble_preds = []
    for i in range(len(preds1)):
        vote_sum = preds1[i] + preds2[i] + preds3[i]
        ensemble_preds.append(1 if vote_sum >= 2 else 0)  # Majority voting
    return np.array(ensemble_preds)

# Weighted Averaging Ensemble Method
def weighted_averaging(preds1, preds2, preds3, weights=(0.33, 0.33, 0.34)):
    weighted_preds = (weights[0] * preds1) + (weights[1] * preds2) + (weights[2] * preds3)
    ensemble_preds = np.round(weighted_preds).astype(int)
    return ensemble_preds

# Obtain ensemble predictions using both methods
ensemble_majority_preds = majority_voting(video_preds, audio_preds, image_preds)
ensemble_weighted_preds = weighted_averaging(video_preds, audio_preds, image_preds)

# Evaluate ensemble methods
def evaluate_model(true_labels, predicted_labels, method_name):
    accuracy = accuracy_score(true_labels, predicted_labels)
    precision = precision_score(true_labels, predicted_labels)
    recall = recall_score(true_labels, predicted_labels)
    f1 = f1_score(true_labels, predicted_labels)
    print(f"\n{method_name} Evaluation:")
    print(f"Accuracy: {accuracy * 100:.2f}%")
    print(f"Precision: {precision:.2f}")
    print(f"Recall: {recall:.2f}")
    print(f"F1 Score: {f1:.2f}")

# Evaluation of majority voting and weighted averaging ensemble
evaluate_model(true_labels, ensemble_majority_preds, "Majority Voting Ensemble")
evaluate_model(true_labels, ensemble_weighted_preds, "Weighted Averaging Ensemble")
