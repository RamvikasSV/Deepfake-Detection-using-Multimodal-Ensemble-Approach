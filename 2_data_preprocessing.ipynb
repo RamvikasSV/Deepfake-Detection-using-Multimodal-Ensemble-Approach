# Importing necessary libraries
import os
import cv2
import librosa
import librosa.display
import numpy as np
import matplotlib.pyplot as plt
from PIL import Image

# Directory paths
BASE_DIR = "data"
VIDEO_DIR = os.path.join(BASE_DIR, "video")
AUDIO_DIR = os.path.join(BASE_DIR, "audio")
IMAGE_DIR = os.path.join(BASE_DIR, "image")

# Output processed data directories
PROCESSED_VIDEO_DIR = os.path.join(BASE_DIR, "processed_video")
PROCESSED_AUDIO_DIR = os.path.join(BASE_DIR, "processed_audio")
PROCESSED_IMAGE_DIR = os.path.join(BASE_DIR, "processed_image")

# Create processed data directories
os.makedirs(PROCESSED_VIDEO_DIR, exist_ok=True)
os.makedirs(PROCESSED_AUDIO_DIR, exist_ok=True)
os.makedirs(PROCESSED_IMAGE_DIR, exist_ok=True)

### Video Preprocessing: Extract frames and resize ###
def process_video(video_path, output_dir, frame_rate=1, size=(128, 128)):
    vidcap = cv2.VideoCapture(video_path)
    count = 0
    success, frame = vidcap.read()
    while success:
        if int(vidcap.get(cv2.CAP_PROP_POS_FRAMES)) % frame_rate == 0:
            frame_resized = cv2.resize(frame, size)
            cv2.imwrite(os.path.join(output_dir, f"frame_{count}.jpg"), frame_resized)
            count += 1
        success, frame = vidcap.read()
    vidcap.release()
    print(f"Processed video {video_path}, extracted {count} frames.")

# Process all videos in VIDEO_DIR
for video_file in os.listdir(VIDEO_DIR):
    video_path = os.path.join(VIDEO_DIR, video_file)
    process_video(video_path, PROCESSED_VIDEO_DIR)

### Audio Preprocessing: Convert to Mel Spectrograms ###
def process_audio(audio_path, output_dir, sr=22050, n_mels=128):
    y, sr = librosa.load(audio_path, sr=sr)
    mel_spectrogram = librosa.feature.melspectrogram(y=y, sr=sr, n_mels=n_mels)
    mel_spectrogram_db = librosa.power_to_db(mel_spectrogram, ref=np.max)
    
    plt.figure(figsize=(2.56, 2.56))
    librosa.display.specshow(mel_spectrogram_db, sr=sr, hop_length=512, x_axis="time", y_axis="mel")
    plt.axis("off")
    plt.savefig(os.path.join(output_dir, os.path.basename(audio_path).replace(".wav", ".png")), bbox_inches="tight", pad_inches=0)
    plt.close()
    print(f"Processed audio {audio_path}, saved as spectrogram.")

# Process all audio files in AUDIO_DIR
for audio_file in os.listdir(AUDIO_DIR):
    audio_path = os.path.join(AUDIO_DIR, audio_file)
    process_audio(audio_path, PROCESSED_AUDIO_DIR)

### Image Preprocessing: Resize images ###
def process_image(image_path, output_dir, size=(128, 128)):
    img = Image.open(image_path)
    img_resized = img.resize(size)
    img_resized.save(os.path.join(output_dir, os.path.basename(image_path)))
    print(f"Processed image {image_path}, resized to {size}.")

# Process all images in IMAGE_DIR
for image_file in os.listdir(IMAGE_DIR):
    image_path = os.path.join(IMAGE_DIR, image_file)
    process_image(image_path, PROCESSED_IMAGE_DIR)

print("Data preprocessing complete for video, audio, and image datasets.")
